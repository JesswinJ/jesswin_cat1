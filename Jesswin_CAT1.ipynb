{
 "cells": [
  {
   "cell_type": "markdown",
   "id": "3316cb7c",
   "metadata": {},
   "source": [
    "Jesswin CAT-1"
   ]
  },
  {
   "cell_type": "code",
   "execution_count": null,
   "id": "a4fa48c9-86b7-422e-a5ab-2a3d2030a44c",
   "metadata": {},
   "outputs": [],
   "source": [
    "Q1"
   ]
  },
  {
   "cell_type": "code",
   "execution_count": 2,
   "id": "c8e45aa9",
   "metadata": {},
   "outputs": [],
   "source": [
    "import pandas as pd\n",
    "import numpy as np"
   ]
  },
  {
   "cell_type": "code",
   "execution_count": 3,
   "id": "64c3f6c8",
   "metadata": {},
   "outputs": [],
   "source": [
    "x = (np.random.rand(1000)*100)\n",
    "x= np.asarray(x,dtype='int')\n",
    "y = x+np.random.normal(0,75,1000)\n",
    "y= np.asarray(y,dtype='int')"
   ]
  },
  {
   "cell_type": "code",
   "execution_count": 4,
   "id": "b7fff7f2",
   "metadata": {},
   "outputs": [
    {
     "data": {
      "text/plain": [
       "(array([53, 38, 49, 50, 99,  7,  4, 80, 78, 87, 56, 15, 30, 40, 42,  0, 12,\n",
       "        85, 96, 71, 73, 39, 24, 52, 97, 46, 61, 51, 32, 70, 80, 78, 24, 65,\n",
       "        99, 40, 79,  3, 57, 99, 40, 15, 78, 15, 52, 34, 73, 10, 23, 35, 32,\n",
       "        67, 12, 13, 46, 83, 41, 33, 25, 66, 31, 48, 61, 33, 49, 91, 42, 88,\n",
       "        12, 32, 67, 15, 55, 82, 68, 92, 32, 50, 40, 66, 28,  2, 47, 10, 87,\n",
       "        34,  5, 91, 50, 71, 33, 77, 14, 77, 19, 95, 17, 32, 95, 89, 96,  6,\n",
       "        67, 88, 31, 74,  1, 28, 34, 18, 67, 79, 59,  2, 78, 85, 99, 99, 59,\n",
       "        47, 76, 54, 85, 19, 94, 89, 59, 48, 49, 78, 88, 17, 86, 73, 35, 58,\n",
       "        90, 61, 95, 58, 61, 93, 99, 32, 22, 20, 16, 26, 86, 78, 31,  4, 48,\n",
       "        71, 70, 13,  6, 12, 90, 73, 65, 38, 36, 10, 49, 67, 20, 97, 72, 24,\n",
       "        17, 57, 89, 31,  0, 48, 32, 45, 70, 45, 28, 94,  3, 67, 34, 90, 77,\n",
       "         8, 41, 38, 14, 98,  1, 14, 76, 84, 90, 74, 22, 36, 61, 11, 70,  6,\n",
       "        79, 35, 80, 31, 78, 47, 90,  6, 81, 71, 72, 71,  1, 95, 85, 64, 46,\n",
       "         6, 39, 14, 45, 69, 96, 90, 48,  2, 20, 25, 43, 93, 84, 91, 71, 83,\n",
       "        27, 50, 36, 61, 92, 37,  7, 27,  6, 42, 21,  8,  0, 13, 46, 52, 33,\n",
       "         1, 43, 74, 71, 10, 35, 95, 75, 93, 76, 97, 81, 85, 89, 62,  1, 74,\n",
       "        39, 44, 99, 81, 64, 78, 53, 22, 26, 35,  2, 43, 53, 66, 13, 37, 61,\n",
       "         2, 67, 27, 52, 99, 67, 42, 56,  6, 31, 59, 36, 71, 59, 65, 81, 75,\n",
       "         3, 27, 69, 64, 65, 40, 91, 59, 14, 44, 94,  2, 36, 69, 59, 58, 98,\n",
       "        72, 94, 21, 53, 39, 71, 76, 55, 56, 75, 34, 68, 61, 70, 63, 31, 34,\n",
       "        27, 15, 72, 15, 25,  9,  3, 87, 15, 67, 17, 97, 67, 76, 54, 79, 37,\n",
       "        51, 28, 46,  7, 44, 98, 89, 33, 33, 12, 29, 54, 31, 46, 90, 33, 47,\n",
       "        73, 97, 17, 74, 91, 41, 29, 58, 79, 29, 99, 85, 84, 65, 15, 36, 81,\n",
       "         7,  2, 77, 68, 18,  4, 23, 98, 56, 77, 16, 61, 93, 60, 76, 67, 87,\n",
       "        11, 10, 28, 89, 38, 21, 71,  1, 36, 10, 70,  3, 21, 63, 45, 28, 46,\n",
       "        71,  3,  9, 50, 99, 77, 14, 25,  9, 61,  9, 62,  1, 64, 44, 11, 74,\n",
       "        29, 26, 16, 43, 13, 65, 15, 76, 90, 49, 73, 21, 27,  5,  5, 49,  3,\n",
       "        41, 84, 25,  4, 80, 43, 80, 85, 31, 65, 79, 87, 61, 50, 56, 14, 66,\n",
       "        10, 42, 89, 52, 80, 59, 62, 85,  6, 76, 43, 43, 90, 10, 42, 31, 55,\n",
       "        58, 20, 54, 95, 32, 13,  6, 47, 98, 52, 91, 67, 63, 55, 10, 13, 46,\n",
       "        41, 10, 94, 55, 24, 40, 55, 62, 37, 25, 74, 38, 72, 56, 74,  5, 89,\n",
       "        27,  3, 15, 24, 38, 24, 78, 45, 51, 44, 47, 55, 98, 32, 22, 24, 15,\n",
       "        93, 62, 25,  1, 83, 32, 55, 90, 17, 82, 29,  8, 45, 31,  0, 75, 76,\n",
       "        64, 15, 32, 78, 96, 93, 68, 19, 17, 83, 86, 28, 82, 38, 57, 83, 57,\n",
       "        54, 74, 13, 12, 80,  2,  9, 71, 54, 46, 47, 12, 39, 59, 93, 42, 76,\n",
       "        60, 80, 94, 40, 60, 34, 32, 32, 19, 42, 25, 52, 11, 69, 47, 92, 32,\n",
       "        53, 54, 49, 22,  3, 46, 97, 45, 80,  5, 87, 25, 37, 19, 63, 64, 29,\n",
       "         6, 29,  9, 61, 33, 77,  4, 45, 69, 82,  5, 98, 77, 75, 30, 42, 95,\n",
       "        78, 29, 56, 94, 62, 68, 22, 89, 80, 82, 93, 38, 42, 15, 88, 36, 86,\n",
       "        54,  4, 52, 95, 15,  1, 48, 18, 38, 61, 12, 43, 57, 45, 70, 22, 29,\n",
       "        51, 11, 26, 11, 58, 89, 53, 72, 76,  3, 46, 72, 82, 18, 59, 43, 52,\n",
       "        79, 86, 57, 12, 53, 32, 32, 35,  0, 58,  3, 33, 80,  4, 27, 77, 97,\n",
       "         3, 73, 47, 20, 57, 98, 38, 23, 11,  6,  3, 97, 80, 84, 61, 24, 92,\n",
       "        44, 15, 10,  2, 84, 47, 76, 62, 96, 89, 99,  1, 47, 84, 52, 43,  0,\n",
       "        98, 41, 59, 75, 40, 43, 47,  3, 84, 80,  5, 69, 33, 71, 31, 50, 24,\n",
       "        92, 51, 54, 41, 74, 79, 94, 29, 66, 27, 74, 83, 87, 33, 20,  5, 20,\n",
       "        23, 43,  1, 17, 50, 72, 72, 93,  8, 56, 77,  3, 58, 22, 75, 21, 97,\n",
       "        40, 12, 35, 34,  2, 89, 93, 94, 90, 12, 30, 21, 53, 63, 76, 38, 13,\n",
       "        28,  7, 25, 42,  8, 12, 48, 71, 57, 32, 81, 62, 98, 51, 96, 56, 99,\n",
       "        95, 44, 77, 98, 36, 16, 65, 22, 22, 26, 30, 13, 64, 62, 24, 15, 26,\n",
       "        97, 66,  1, 13, 39, 73, 82, 16, 32, 35, 47, 18,  3, 98, 64, 29, 62,\n",
       "        47, 98, 46, 73, 57, 22, 75, 62, 73,  4, 59, 76, 32, 45, 39, 29, 98,\n",
       "        38, 11, 16, 46, 22,  7, 87, 81, 81,  5, 92, 28, 69, 50,  0,  1, 56,\n",
       "        70, 89, 61, 68, 41, 24, 23, 56, 23, 82, 16, 92,  9, 18, 99, 32,  0,\n",
       "        94, 27, 69,  7, 60, 61, 70,  9, 79, 63,  2, 22, 66, 52, 54, 34, 92,\n",
       "         2, 42, 45, 83, 79, 72, 90,  1, 84, 96, 96, 49, 33, 10, 67, 70, 21,\n",
       "        67, 14, 95, 10, 96, 89, 37, 27, 21, 18, 94, 24, 65, 46, 24, 52, 33,\n",
       "        16,  8, 23, 73, 39, 66, 54, 95,  4, 28, 16, 76, 42, 78, 37, 49, 31,\n",
       "        75, 73, 17, 51, 21,  4, 28, 86, 47, 39, 81, 14, 79, 84]),\n",
       " array([ 165,    9,   18,  -45,  162,  -24,   22,   23,   36,  210,   73,\n",
       "         -31,  133,   53,   17,  -28,   34,   70,   34,  -44,   29,  106,\n",
       "          42,   92,   73,  -14,  143,  -59,   50,  129,  107,  -14,   49,\n",
       "         -20,   71,    2,  -11, -112,  119,   72,   69,  -68,  139,   34,\n",
       "          61,  -37,   74,  -40,   51,   17,  102,  126,  -49,  104,  -59,\n",
       "          51,   17,  108,  117,  113,  151,   -2,    2,   28,   62,  140,\n",
       "         224,  -75,   -2,  -23,  125,   33,   68,  201,   30,  137,  -68,\n",
       "          37,   33,   60,    6,    4,    2,  113,   25,  -31,   64,   77,\n",
       "         -25,   88,  -76,   38,  -78,  106,   15,  164,   98,  180,  122,\n",
       "          37,   48,   18,  137,  197,  -85,  135, -168,  -21,   37,  -50,\n",
       "          18,  138,  111,   98,  -80,   69,   47,  -17,   39,   65,  157,\n",
       "          88,   24,   86,   73,  121,  105,   60,   34,   -4,  156,  -84,\n",
       "          22, -115,  118,  107,   58,   22,   61,   -2,  108,   67,  121,\n",
       "        -143,  -38, -112,  118,  -38,   72,  173,   56,   42,   72,  111,\n",
       "        -104,  -32,    9,  146,  171,  129,   43,    4,   36,  -67,   19,\n",
       "         200,  -48,  252,   77,  112,  106,   15,  167,   75, -135,  110,\n",
       "          12,   34,  160,   65,  -91,  -13,  -39,   61,   60,  232,   -3,\n",
       "         -66,  -19,    9,  -67,  128,  107,   57,  183,   84,   -2,   31,\n",
       "         125,   33,   76,  217,   19,  -12,   29,  208,   70,  -96,   68,\n",
       "          61,   93,   17,   74,   -9,  -28,  202,   98,   13,  257,  117,\n",
       "         128,  -39,  -56,   27,  175,   42,   51,  194,   94,   55,   34,\n",
       "         -34,    0,   50,  118,  182,  -75,  211,   15,   19,  172,  -10,\n",
       "          33,  -40, -149,   -6,  165,   34, -105,   46,   24,  -77,  -48,\n",
       "         137,   72,   27,   78,   23,  199,   -8,   46,  284,  -84,  114,\n",
       "         184,  125,   22,  -72,  166,   70,  -27,  239,   92,  140,   74,\n",
       "         137,   34,  102,  155,  -91,   14,   78,  -89,  148,   51,    8,\n",
       "         149,  -77,   22,   -7,  -80,  177,  -84,  -34,  124,   73,  126,\n",
       "        -146,   19,   21,  122,    4,   99,  -67,  119,  -16,  -16,   33,\n",
       "         -75,   66,  104,   35,    6,  -30, -119,  -76,  -14,  -10,   71,\n",
       "          21,   41,   84,  161,  193,   76,   56,   31,   25,  -14,  -11,\n",
       "          52,  -47,  110,  -57,  124,   86,   20,   79,    0,  209,  -51,\n",
       "          28,   51,   41,  113,  142,   32,  -75,  -55,  112,  146,  234,\n",
       "          70,  215,  140,  130,   45,   23,  153,  -23,  -27,  -10,   98,\n",
       "         203,  -76,  101, -148,   95,  134,   -3,   36,   95,  -76,  -33,\n",
       "         224,   55,   26,  -15,   86,  -94, -122,   91,  126,  -30,  160,\n",
       "          26,  135,   44,   83,  -18,  138,   69,  -44,  205,  -10,   40,\n",
       "          13,   75,  259,  120,  195,   89,   39,   57,  171,  -43,  -70,\n",
       "          72,  144,   27,   21,  -16,  103,   74,   42, -113,  -81,   40,\n",
       "          49,  -96,  -64,  -72,   55,   54,   62,  -24,   72,   27, -164,\n",
       "          24,  105,   81,   37,  -42,  176,  -18,  146,   26,  -22,   47,\n",
       "        -104,   38,  -56,   11,  -27,   25,   50,  108,   12,  132,  243,\n",
       "         141,   55,   -1,  -88,   39,  167,  -54,    0,  147,  -10, -165,\n",
       "          94, -129,  202,   52,  158,   85,  122,  107,  145,   23,   79,\n",
       "         158,  -43,  -82,  -40,  -37,  113,    6,   61,   77,  117,  119,\n",
       "          57,  181,   53,  -14,   65,   56,  -25,   44,  -99,  -50,  -21,\n",
       "         115,   12,  102,    0,   -4,  -84,   22,  -33,   80,   11,  177,\n",
       "         119,   31,  124,  114,  102,   33,   50,   38,   84,  119,  100,\n",
       "          58,  -47,  117,   52,   35,   52,  198,  133,  -20,   49,   -7,\n",
       "          -9,  237,   49,  -46,   81,  118,   -2,   87,   -2,  -89,   23,\n",
       "          51,  -29, -103,   83,  -20,   25,  -26,   80,  -63,  -18,  -32,\n",
       "          86,  107,   92,  203,   28,   49,  -64,   50,   15,  141,   88,\n",
       "          22,  115,  -49,  -82,  124,  125,   45,   37,  108,  -50,  -63,\n",
       "         -35,  140,  144,   51,  204,  155,  197,   32,   -4,    6,   60,\n",
       "         -81,  171,   62,  -47,  126,  166,   48,   -1,  -11,  172,   28,\n",
       "         144,   37,  116,   30,   75,    5,   11,  -96,   26,  134,   95,\n",
       "         -57,   43,    5,   90,   70,  300,  -21,   52,  -28,   -7,    6,\n",
       "         -50,   -2,  -95,   44,   94,  -60,   29,   97,  134,  -45,  111,\n",
       "           6,   19,   52,   12,  156,  197,   39,  185,  -21,   82,  -54,\n",
       "         -51,   96,  -70,  -54,  153,  108,   71,   80,   65,  125,   29,\n",
       "          30,  101,   28,   65,  187,  144,   54,  117,   70,  104,  -84,\n",
       "          86,  -54,  -17,   29, -102,  101,   83,   12,  -56,   43,  -83,\n",
       "         -26,   -2,  -16,   58,   39,   78,   39,  -33, -100,    7, -106,\n",
       "          38,   73,   20,   99,  102,   28,  133,   87,   78,   51,  100,\n",
       "         204,   92, -129,   25,  146,   75,  138,   97, -113,  -17,  163,\n",
       "         -37,   70,  146,  143,   27,  -10,    0,   21,   34,   24,   87,\n",
       "          83,  -28,   -3,  -28,  131,    9,  -47,   85,  -65,    8,  -47,\n",
       "          88,  100,   30,  -10,   85,  -18, -108,  -57,  -31,  -44,  117,\n",
       "          20,   45,   64,  125,   17,   -1,   30,  255,   25,  -55,   63,\n",
       "          35,  -18,   78,  250,  121,   47,   51,   31,  238,   87,   52,\n",
       "         142,  -40,  109,    4,    0,   18,  220,  123,  -59,  110,   57,\n",
       "         108,   70,  -59,  113,   31,  121,   99,  102,   72,   30,  113,\n",
       "         -99,   43,    1,   11,  108,  -12,   49,   11,  198,    8,   44,\n",
       "         158, -110,    1,  -42,  120, -113,  236,  -39, -200,  -65, -195,\n",
       "         -58,  108,  214,    5,  150,  -38,  159, -106,  -12,  129,   47,\n",
       "           1,   58,   17,  -32,   37,   92,   45,   46,   92,   88,  -17,\n",
       "         -82,  118,  108,   61,  134,  135,   97,  186,   -3,   74,  141,\n",
       "         107,   -4,  -89,   71,  103,  -28,  -78,  -90,   90,   35,   59,\n",
       "          52,   11,  -43,  189,  -15,   67,   35,   47,   96,  216,  -41,\n",
       "           0,   24,   73,  100,  123,  -10,   16,   -8,  110,  107,   83,\n",
       "         -22,  110,  154,    0,  102,   18,  -76,   82,  -22, -140,   11,\n",
       "          55,  155,   48,   71,   12, -119,  -38,   61,   81,   54,  185,\n",
       "          86,   -6, -126,  -23,   27,  -38,   22,   99,   12,   18,   64,\n",
       "          73,  -34,  -55, -139,  -15,   92,  113,  -39,  188,  -27,   38,\n",
       "          62,  -15,   93,   33,    2,  104,   87,  158,  -12,  130,  107,\n",
       "          67,   46,   45,  123,   14,   72,   13,   46,  185,   -5,  115,\n",
       "         -88,   75,   30,   84,  146,  129,   37, -147,  166,   40,   29,\n",
       "          13,   65,  110,  118,   47,  131,   64,   30,   14,   28,  -55,\n",
       "         -39,   38,  -32,   51,   75,  226,  -37,  -95,  185, -104,   96,\n",
       "         -44,  -31,  -46,   -7,  136,    4,   78,  123,  134,  -33,   58,\n",
       "         -39,   71,  -47,  -43,   70,   28,   79,  116,   58,   82,   15,\n",
       "          69,   -1,  109,    7,  133,  117,  149,  -28,  163,   77]))"
      ]
     },
     "execution_count": 4,
     "metadata": {},
     "output_type": "execute_result"
    }
   ],
   "source": [
    "x,y"
   ]
  },
  {
   "cell_type": "markdown",
   "id": "5045f371",
   "metadata": {},
   "source": [
    "Q2"
   ]
  },
  {
   "cell_type": "code",
   "execution_count": 5,
   "id": "a18350fc",
   "metadata": {},
   "outputs": [],
   "source": [
    "inds = np.random.permutation(len(x))\n",
    "size = round(len(x)*0.7)\n",
    "train,test = inds[:size],inds[size:]"
   ]
  },
  {
   "cell_type": "code",
   "execution_count": 6,
   "id": "77b04d84",
   "metadata": {},
   "outputs": [],
   "source": [
    "x_train,x_test,y_train,y_test = x[train],x[test],y[train],y[test]"
   ]
  },
  {
   "cell_type": "code",
   "execution_count": 7,
   "id": "d6ee2ee4",
   "metadata": {},
   "outputs": [
    {
     "data": {
      "text/plain": [
       "(1.0810164904637891, -7.562490146856547)"
      ]
     },
     "execution_count": 7,
     "metadata": {},
     "output_type": "execute_result"
    }
   ],
   "source": [
    "m_scr = ((x_train-x_train.mean())*(y_train-y_train.mean())).sum()/((x_train-x_train.mean())**2).sum()\n",
    "c_scr = y_train.mean()-(x_train.mean()*m_scr)\n",
    "m_scr,c_scr"
   ]
  },
  {
   "cell_type": "code",
   "execution_count": 8,
   "id": "74753aa8",
   "metadata": {},
   "outputs": [],
   "source": [
    "y_pred_scr = c_scr + (m_scr*x_test)"
   ]
  },
  {
   "cell_type": "code",
   "execution_count": 9,
   "id": "3f4590d0",
   "metadata": {},
   "outputs": [],
   "source": [
    "def accuracy(y_pred,y_test):\n",
    "    print(\"mae :\",np.abs(y_test-y_pred).mean())\n",
    "    print(\"rmse :\",(((y_test-y_pred)**2).mean())**0.5)"
   ]
  },
  {
   "cell_type": "code",
   "execution_count": 10,
   "id": "c107cfdc",
   "metadata": {},
   "outputs": [
    {
     "name": "stdout",
     "output_type": "stream",
     "text": [
      "mae : 58.607012667977095\n",
      "rmse : 71.90798510169517\n"
     ]
    }
   ],
   "source": [
    "accuracy(y_pred_scr,y_test)"
   ]
  },
  {
   "cell_type": "code",
   "execution_count": 11,
   "id": "8ef9ad55",
   "metadata": {},
   "outputs": [
    {
     "data": {
      "text/plain": [
       "<matplotlib.collections.PathCollection at 0x2873b0cf1f0>"
      ]
     },
     "execution_count": 11,
     "metadata": {},
     "output_type": "execute_result"
    },
    {
     "data": {
      "image/png": "[encoded data removed]",
      "text/plain": [
       "<Figure size 432x288 with 1 Axes>"
      ]
     },
     "metadata": {
      "needs_background": "light"
     },
     "output_type": "display_data"
    }
   ],
   "source": [
    "import matplotlib.pyplot as plt\n",
    "plt.plot(x_test,y_pred_scr,c=\"b\")\n",
    "plt.scatter(x_test,y_test,c=\"r\")"
   ]
  },
  {
   "cell_type": "markdown",
   "id": "9d889aa6",
   "metadata": {},
   "source": [
    "Q3 "
   ]
  },
  {
   "cell_type": "code",
   "execution_count": 27,
   "id": "89a88bc6",
   "metadata": {},
   "outputs": [],
   "source": [
    "m,c = 0,0"
   ]
  },
  {
   "cell_type": "code",
   "execution_count": 28,
   "id": "34842981",
   "metadata": {},
   "outputs": [],
   "source": [
    "l = 0.0001\n",
    "epochs = 30000\n",
    "n = float(len(x_train))"
   ]
  },
  {
   "cell_type": "code",
   "execution_count": 37,
   "id": "8e739647",
   "metadata": {},
   "outputs": [],
   "source": [
    "for i in range(epochs): \n",
    "    temp_y= m*x_train + c\n",
    "    temp_m = (-2/n) * sum(x_train * (y_train - temp_y))\n",
    "    temp_c = (-2/n) * sum(y_train -temp_y)\n",
    "    m = m - l * temp_m\n",
    "    c = c - l * temp_c"
   ]
  },
  {
   "cell_type": "code",
   "execution_count": 38,
   "id": "498107af",
   "metadata": {},
   "outputs": [
    {
     "data": {
      "text/plain": [
       "(1.0581121149995618, -6.015531774329411)"
      ]
     },
     "execution_count": 38,
     "metadata": {},
     "output_type": "execute_result"
    }
   ],
   "source": [
    "m,c"
   ]
  },
  {
   "cell_type": "code",
   "execution_count": 33,
   "id": "31fd657d",
   "metadata": {},
   "outputs": [],
   "source": [
    "y_pred = m*x_test + c"
   ]
  },
  {
   "cell_type": "code",
   "execution_count": 34,
   "id": "c25ee525",
   "metadata": {},
   "outputs": [
    {
     "data": {
      "text/plain": [
       "<matplotlib.collections.PathCollection at 0x2873d701a00>"
      ]
     },
     "execution_count": 34,
     "metadata": {},
     "output_type": "execute_result"
    },
    {
     "data": {
      "image/png": "[encoded data removed]",
      "text/plain": [
       "<Figure size 432x288 with 1 Axes>"
      ]
     },
     "metadata": {
      "needs_background": "light"
     },
     "output_type": "display_data"
    }
   ],
   "source": [
    "plt.plot(x_test,y_pred,c=\"g\")\n",
    "plt.scatter(x_test,y_test,c=\"y\")"
   ]
  },
  {
   "cell_type": "code",
   "execution_count": 35,
   "id": "ec8c26c9",
   "metadata": {},
   "outputs": [
    {
     "name": "stdout",
     "output_type": "stream",
     "text": [
      "mae : 70.66497955043582\n",
      "rmse : 86.13627860921603\n"
     ]
    }
   ],
   "source": [
    "accuracy(y_pred,y_test)"
   ]
  },
  {
   "cell_type": "markdown",
   "id": "56a63175",
   "metadata": {},
   "source": [
    "Q4"
   ]
  },
  {
   "cell_type": "code",
   "execution_count": 19,
   "id": "89ba53e4",
   "metadata": {},
   "outputs": [
    {
     "data": {
      "text/plain": [
       "LinearRegression()"
      ]
     },
     "execution_count": 19,
     "metadata": {},
     "output_type": "execute_result"
    }
   ],
   "source": [
    "from sklearn.linear_model import LinearRegression\n",
    "reg = LinearRegression()\n",
    "\n",
    "reg.fit(x_train.reshape(-1,1),y_train.reshape(-1,1))"
   ]
  },
  {
   "cell_type": "code",
   "execution_count": 20,
   "id": "810387ac",
   "metadata": {},
   "outputs": [],
   "source": [
    "c_skl = reg.intercept_[0]\n",
    "m_skl = reg.coef_[0,0]"
   ]
  },
  {
   "cell_type": "code",
   "execution_count": 21,
   "id": "5e4cacdc",
   "metadata": {},
   "outputs": [],
   "source": [
    "y_pred_skl = reg.predict(x_test.reshape(-1,1))"
   ]
  },
  {
   "cell_type": "code",
   "execution_count": 22,
   "id": "4c4d064f",
   "metadata": {},
   "outputs": [
    {
     "name": "stdout",
     "output_type": "stream",
     "text": [
      "mae : 64.91714518219355\n",
      "rmse : 79.91814738257773\n"
     ]
    }
   ],
   "source": [
    "accuracy(y_pred_skl,y_test)"
   ]
  },
  {
   "cell_type": "code",
   "execution_count": 36,
   "id": "7e79da6b",
   "metadata": {},
   "outputs": [
    {
     "data": {
      "text/plain": [
       "[<matplotlib.lines.Line2D at 0x2873d77e190>]"
      ]
     },
     "execution_count": 36,
     "metadata": {},
     "output_type": "execute_result"
    },
    {
     "data": {
      "image/png": "[encoded data removed]",
      "text/plain": [
       "<Figure size 432x288 with 1 Axes>"
      ]
     },
     "metadata": {
      "needs_background": "light"
     },
     "output_type": "display_data"
    }
   ],
   "source": [
    "plt.scatter(x_test,y_test,c=\"y\")\n",
    "plt.plot(x_test,y_pred_skl,c=\"g\")"
   ]
  },
  {
   "cell_type": "code",
   "execution_count": null,
   "id": "604b8cdb",
   "metadata": {},
   "outputs": [],
   "source": []
  },
  {
   "cell_type": "code",
   "execution_count": null,
   "id": "4ac2e1d1-ddc8-4a0b-a269-09bef780b853",
   "metadata": {},
   "outputs": [],
   "source": []
  },
  {
   "cell_type": "code",
   "execution_count": null,
   "id": "279451cd-7f9e-41cc-8bba-66f7391c8808",
   "metadata": {},
   "outputs": [],
   "source": []
  }
 ],
 "metadata": {
  "kernelspec": {
   "display_name": "Python 3 (ipykernel)",
   "language": "python",
   "name": "python3"
  },
  "language_info": {
   "codemirror_mode": {
    "name": "ipython",
    "version": 3
   },
   "file_extension": ".py",
   "mimetype": "text/x-python",
   "name": "python",
   "nbconvert_exporter": "python",
   "pygments_lexer": "ipython3",
   "version": "3.9.7"
  }
 },
 "nbformat": 4,
 "nbformat_minor": 5
}
